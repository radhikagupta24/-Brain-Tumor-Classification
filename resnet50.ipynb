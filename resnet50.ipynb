{
  "cells": [
    {
      "cell_type": "code",
      "execution_count": null,
      "metadata": {
        "id": "OUVZXEQzsV0_",
        "colab": {
          "base_uri": "https://localhost:8080/"
        },
        "outputId": "c32bd512-2ee6-47bd-9ce9-a84699548ca1"
      },
      "outputs": [
        {
          "output_type": "stream",
          "name": "stdout",
          "text": [
            "Mounted at /content/drive\n"
          ]
        }
      ],
      "source": [
        "from google.colab import drive\n",
        "drive.mount('/content/drive')"
      ]
    },
    {
      "cell_type": "code",
      "execution_count": null,
      "metadata": {
        "id": "9ptRYUoBsZjy"
      },
      "outputs": [],
      "source": [
        "from tensorflow import keras\n",
        "from tensorflow.keras.applications.resnet50 import ResNet50, preprocess_input\n",
        "from tensorflow.keras.optimizers import Adam\n",
        "from tensorflow.keras.utils import plot_model\n",
        "from tensorflow.keras.layers import Flatten, Dense,Dropout, Softmax\n",
        "from tensorflow.keras.preprocessing.image import ImageDataGenerator\n",
        "from tensorflow.keras.models import Model, Sequential, load_model\n",
        "from tensorflow.keras.preprocessing import image\n",
        "from glob import glob\n",
        "\n",
        "import tensorflow as tf\n",
        "import matplotlib.pyplot as plt\n",
        "import numpy as np\n",
        "import warnings\n",
        "warnings.filterwarnings(\"ignore\")\n",
        "%matplotlib inline\n"
      ]
    },
    {
      "cell_type": "code",
      "execution_count": null,
      "metadata": {
        "id": "yepQzs-9ssLE"
      },
      "outputs": [],
      "source": [
        "Image_size=[224,224]\n",
        "train_path=\"/content/drive/MyDrive/braintumordataset/Training\"\n",
        "test_path=\"/content/drive/MyDrive/braintumordataset/Testing\""
      ]
    },
    {
      "cell_type": "code",
      "execution_count": null,
      "metadata": {
        "colab": {
          "base_uri": "https://localhost:8080/"
        },
        "id": "uDUqIWTDx6C5",
        "outputId": "1a3a8d19-c62e-42cd-9f9a-f3c624deb597"
      },
      "outputs": [
        {
          "output_type": "stream",
          "name": "stdout",
          "text": [
            "Found 2870 images belonging to 4 classes.\n"
          ]
        }
      ],
      "source": [
        "train_datagen = ImageDataGenerator(\n",
        "    rescale=1./255,\n",
        "    shear_range=0.2,\n",
        "    zoom_range=0.2,\n",
        "    horizontal_flip=True)\n",
        "\n",
        "training_set = train_datagen.flow_from_directory(\n",
        "    '/content/drive/MyDrive/braintumordataset/Training',\n",
        "    target_size=(224, 224),\n",
        "    batch_size=16,\n",
        "    class_mode='sparse',\n",
        "    shuffle=True)"
      ]
    },
    {
      "cell_type": "code",
      "execution_count": null,
      "metadata": {
        "colab": {
          "base_uri": "https://localhost:8080/"
        },
        "id": "qatlyLTmyDmS",
        "outputId": "00a7c73e-e8a7-49d2-f6ba-1567a014447a"
      },
      "outputs": [
        {
          "output_type": "stream",
          "name": "stdout",
          "text": [
            "Found 394 images belonging to 4 classes.\n"
          ]
        }
      ],
      "source": [
        "test_datagen = ImageDataGenerator(\n",
        "    rescale=1./255,\n",
        "    shear_range=0.2,\n",
        "    zoom_range=0.2,\n",
        "    horizontal_flip=True)\n",
        "\n",
        "testing_set = test_datagen.flow_from_directory(\n",
        "    '/content/drive/MyDrive/braintumordataset/Testing',\n",
        "    target_size=(224, 224),\n",
        "    batch_size=16,\n",
        "    class_mode='sparse',\n",
        "    shuffle=True)"
      ]
    },
    {
      "cell_type": "code",
      "execution_count": null,
      "metadata": {
        "id": "SFH8VfrNyTll"
      },
      "outputs": [],
      "source": [
        "# resnet50\n",
        "from tensorflow.keras.layers import GlobalAveragePooling2D, Dense\n",
        "from tensorflow.keras.layers import BatchNormalization\n",
        "\n",
        "base_model = ResNet50(weights='imagenet', include_top=False, input_shape=(224, 224, 3))\n",
        "cnn = Sequential()\n",
        "cnn.add(base_model)\n",
        "# Add BatchNormalization after each convolutional block within the base model (optional)\n",
        "for layer in base_model.layers:\n",
        "    if isinstance(layer, tf.keras.layers.Conv2D):  # Check if it's a convolutional layer\n",
        "        cnn.add(BatchNormalization())\n",
        "cnn.add(GlobalAveragePooling2D())\n",
        "cnn.add(Dense(units=256, activation='relu'))\n",
        "cnn.add(BatchNormalization())  # Batch normalization layer\n",
        "cnn.add(Dropout(0.5))  # Dropout layer with dropout rate of 0.5\n",
        "cnn.add(Dense(units=4, activation='softmax'))"
      ]
    },
    {
      "cell_type": "code",
      "source": [
        "for layer in base_model.layers[:-8]:\n",
        "    layer.trainable = True"
      ],
      "metadata": {
        "id": "RRH9vZlngC7O"
      },
      "execution_count": null,
      "outputs": []
    },
    {
      "cell_type": "code",
      "source": [
        "opt = tf.keras.optimizers.Adam(learning_rate=0.0001)\n",
        "cnn.compile(optimizer=opt, loss='sparse_categorical_crossentropy', metrics=['accuracy'])\n",
        "\n",
        "# Fit the model\n",
        "history = cnn.fit(x=training_set, batch_size=32, validation_data=testing_set, epochs=20)"
      ],
      "metadata": {
        "colab": {
          "base_uri": "https://localhost:8080/"
        },
        "id": "oVYzxZYniQMh",
        "outputId": "f44f64fe-8f15-45dc-a84c-70655494c180"
      },
      "execution_count": null,
      "outputs": [
        {
          "output_type": "stream",
          "name": "stdout",
          "text": [
            "Epoch 1/20\n",
            "180/180 [==============================] - 913s 5s/step - loss: 0.7579 - accuracy: 0.7620 - val_loss: 3.1916 - val_accuracy: 0.2437\n",
            "Epoch 2/20\n",
            "180/180 [==============================] - 73s 407ms/step - loss: 0.3302 - accuracy: 0.8843 - val_loss: 3.0247 - val_accuracy: 0.3579\n",
            "Epoch 3/20\n",
            "180/180 [==============================] - 73s 405ms/step - loss: 0.2451 - accuracy: 0.9237 - val_loss: 5.5797 - val_accuracy: 0.3503\n",
            "Epoch 4/20\n",
            "180/180 [==============================] - 71s 392ms/step - loss: 0.2202 - accuracy: 0.9240 - val_loss: 3.0323 - val_accuracy: 0.3629\n",
            "Epoch 5/20\n",
            "180/180 [==============================] - 73s 408ms/step - loss: 0.1976 - accuracy: 0.9387 - val_loss: 2.0828 - val_accuracy: 0.5914\n",
            "Epoch 6/20\n",
            "180/180 [==============================] - 71s 392ms/step - loss: 0.1354 - accuracy: 0.9564 - val_loss: 1.8052 - val_accuracy: 0.6371\n",
            "Epoch 7/20\n",
            "180/180 [==============================] - 72s 400ms/step - loss: 0.0994 - accuracy: 0.9679 - val_loss: 1.5508 - val_accuracy: 0.7107\n",
            "Epoch 8/20\n",
            "180/180 [==============================] - 75s 417ms/step - loss: 0.1280 - accuracy: 0.9631 - val_loss: 1.8047 - val_accuracy: 0.7538\n",
            "Epoch 9/20\n",
            "180/180 [==============================] - 71s 391ms/step - loss: 0.0851 - accuracy: 0.9718 - val_loss: 1.2350 - val_accuracy: 0.7919\n",
            "Epoch 10/20\n",
            "180/180 [==============================] - 74s 408ms/step - loss: 0.0781 - accuracy: 0.9749 - val_loss: 1.7154 - val_accuracy: 0.7487\n",
            "Epoch 11/20\n",
            "180/180 [==============================] - 71s 394ms/step - loss: 0.0874 - accuracy: 0.9749 - val_loss: 1.7429 - val_accuracy: 0.7716\n",
            "Epoch 12/20\n",
            "180/180 [==============================] - 75s 418ms/step - loss: 0.0753 - accuracy: 0.9749 - val_loss: 2.0815 - val_accuracy: 0.7462\n",
            "Epoch 13/20\n",
            "180/180 [==============================] - 70s 390ms/step - loss: 0.0885 - accuracy: 0.9725 - val_loss: 2.0613 - val_accuracy: 0.7538\n",
            "Epoch 14/20\n",
            "180/180 [==============================] - 71s 395ms/step - loss: 0.0530 - accuracy: 0.9808 - val_loss: 1.7059 - val_accuracy: 0.7563\n",
            "Epoch 15/20\n",
            "180/180 [==============================] - 74s 412ms/step - loss: 0.0849 - accuracy: 0.9739 - val_loss: 1.8790 - val_accuracy: 0.7513\n",
            "Epoch 16/20\n",
            "180/180 [==============================] - 72s 398ms/step - loss: 0.0826 - accuracy: 0.9756 - val_loss: 1.5370 - val_accuracy: 0.7589\n",
            "Epoch 17/20\n",
            "180/180 [==============================] - 72s 400ms/step - loss: 0.0779 - accuracy: 0.9767 - val_loss: 2.9359 - val_accuracy: 0.7386\n",
            "Epoch 18/20\n",
            "180/180 [==============================] - 72s 398ms/step - loss: 0.0526 - accuracy: 0.9826 - val_loss: 2.7739 - val_accuracy: 0.7208\n",
            "Epoch 19/20\n",
            "180/180 [==============================] - 71s 395ms/step - loss: 0.0634 - accuracy: 0.9815 - val_loss: 1.1853 - val_accuracy: 0.7716\n",
            "Epoch 20/20\n",
            "180/180 [==============================] - 74s 408ms/step - loss: 0.0586 - accuracy: 0.9777 - val_loss: 2.7124 - val_accuracy: 0.7716\n"
          ]
        }
      ]
    },
    {
      "cell_type": "code",
      "source": [
        "accuracy = cnn.evaluate(testing_set)[1]\n",
        "print(\"Test Accuracy:\", accuracy)"
      ],
      "metadata": {
        "colab": {
          "base_uri": "https://localhost:8080/"
        },
        "id": "7jUi9PN5iWAR",
        "outputId": "358cb07f-69e5-4f8b-bc1a-aaac54aff4fb"
      },
      "execution_count": null,
      "outputs": [
        {
          "output_type": "stream",
          "name": "stdout",
          "text": [
            "25/25 [==============================] - 7s 275ms/step - loss: 2.5912 - accuracy: 0.7766\n",
            "Test Accuracy: 0.7766497731208801\n"
          ]
        }
      ]
    },
    {
      "cell_type": "code",
      "source": [
        "loss = cnn.evaluate(testing_set)[1]\n",
        "print(\"Test loss:\", loss)"
      ],
      "metadata": {
        "colab": {
          "base_uri": "https://localhost:8080/"
        },
        "id": "aOZc3mMKib75",
        "outputId": "bdbc80e0-f1d6-4a28-b4d4-105335d62269"
      },
      "execution_count": null,
      "outputs": [
        {
          "output_type": "stream",
          "name": "stdout",
          "text": [
            "25/25 [==============================] - 13s 472ms/step - loss: 2.6420 - accuracy: 0.7766\n",
            "Test loss: 0.7766497731208801\n"
          ]
        }
      ]
    },
    {
      "cell_type": "code",
      "source": [
        "cnn.summary()"
      ],
      "metadata": {
        "colab": {
          "base_uri": "https://localhost:8080/"
        },
        "id": "DzW5Gnppijai",
        "outputId": "a6f35ac0-cd08-4d71-fdfc-4b9c09f8d74b"
      },
      "execution_count": null,
      "outputs": [
        {
          "output_type": "stream",
          "name": "stdout",
          "text": [
            "Model: \"sequential_1\"\n",
            "_________________________________________________________________\n",
            " Layer (type)                Output Shape              Param #   \n",
            "=================================================================\n",
            " resnet50 (Functional)       (None, 7, 7, 2048)        23587712  \n",
            "                                                                 \n",
            " batch_normalization (Batch  (None, 7, 7, 2048)        8192      \n",
            " Normalization)                                                  \n",
            "                                                                 \n",
            " batch_normalization_1 (Bat  (None, 7, 7, 2048)        8192      \n",
            " chNormalization)                                                \n",
            "                                                                 \n",
            " batch_normalization_2 (Bat  (None, 7, 7, 2048)        8192      \n",
            " chNormalization)                                                \n",
            "                                                                 \n",
            " batch_normalization_3 (Bat  (None, 7, 7, 2048)        8192      \n",
            " chNormalization)                                                \n",
            "                                                                 \n",
            " batch_normalization_4 (Bat  (None, 7, 7, 2048)        8192      \n",
            " chNormalization)                                                \n",
            "                                                                 \n",
            " batch_normalization_5 (Bat  (None, 7, 7, 2048)        8192      \n",
            " chNormalization)                                                \n",
            "                                                                 \n",
            " batch_normalization_6 (Bat  (None, 7, 7, 2048)        8192      \n",
            " chNormalization)                                                \n",
            "                                                                 \n",
            " batch_normalization_7 (Bat  (None, 7, 7, 2048)        8192      \n",
            " chNormalization)                                                \n",
            "                                                                 \n",
            " batch_normalization_8 (Bat  (None, 7, 7, 2048)        8192      \n",
            " chNormalization)                                                \n",
            "                                                                 \n",
            " batch_normalization_9 (Bat  (None, 7, 7, 2048)        8192      \n",
            " chNormalization)                                                \n",
            "                                                                 \n",
            " batch_normalization_10 (Ba  (None, 7, 7, 2048)        8192      \n",
            " tchNormalization)                                               \n",
            "                                                                 \n",
            " batch_normalization_11 (Ba  (None, 7, 7, 2048)        8192      \n",
            " tchNormalization)                                               \n",
            "                                                                 \n",
            " batch_normalization_12 (Ba  (None, 7, 7, 2048)        8192      \n",
            " tchNormalization)                                               \n",
            "                                                                 \n",
            " batch_normalization_13 (Ba  (None, 7, 7, 2048)        8192      \n",
            " tchNormalization)                                               \n",
            "                                                                 \n",
            " batch_normalization_14 (Ba  (None, 7, 7, 2048)        8192      \n",
            " tchNormalization)                                               \n",
            "                                                                 \n",
            " batch_normalization_15 (Ba  (None, 7, 7, 2048)        8192      \n",
            " tchNormalization)                                               \n",
            "                                                                 \n",
            " batch_normalization_16 (Ba  (None, 7, 7, 2048)        8192      \n",
            " tchNormalization)                                               \n",
            "                                                                 \n",
            " batch_normalization_17 (Ba  (None, 7, 7, 2048)        8192      \n",
            " tchNormalization)                                               \n",
            "                                                                 \n",
            " batch_normalization_18 (Ba  (None, 7, 7, 2048)        8192      \n",
            " tchNormalization)                                               \n",
            "                                                                 \n",
            " batch_normalization_19 (Ba  (None, 7, 7, 2048)        8192      \n",
            " tchNormalization)                                               \n",
            "                                                                 \n",
            " batch_normalization_20 (Ba  (None, 7, 7, 2048)        8192      \n",
            " tchNormalization)                                               \n",
            "                                                                 \n",
            " batch_normalization_21 (Ba  (None, 7, 7, 2048)        8192      \n",
            " tchNormalization)                                               \n",
            "                                                                 \n",
            " batch_normalization_22 (Ba  (None, 7, 7, 2048)        8192      \n",
            " tchNormalization)                                               \n",
            "                                                                 \n",
            " batch_normalization_23 (Ba  (None, 7, 7, 2048)        8192      \n",
            " tchNormalization)                                               \n",
            "                                                                 \n",
            " batch_normalization_24 (Ba  (None, 7, 7, 2048)        8192      \n",
            " tchNormalization)                                               \n",
            "                                                                 \n",
            " batch_normalization_25 (Ba  (None, 7, 7, 2048)        8192      \n",
            " tchNormalization)                                               \n",
            "                                                                 \n",
            " batch_normalization_26 (Ba  (None, 7, 7, 2048)        8192      \n",
            " tchNormalization)                                               \n",
            "                                                                 \n",
            " batch_normalization_27 (Ba  (None, 7, 7, 2048)        8192      \n",
            " tchNormalization)                                               \n",
            "                                                                 \n",
            " batch_normalization_28 (Ba  (None, 7, 7, 2048)        8192      \n",
            " tchNormalization)                                               \n",
            "                                                                 \n",
            " batch_normalization_29 (Ba  (None, 7, 7, 2048)        8192      \n",
            " tchNormalization)                                               \n",
            "                                                                 \n",
            " batch_normalization_30 (Ba  (None, 7, 7, 2048)        8192      \n",
            " tchNormalization)                                               \n",
            "                                                                 \n",
            " batch_normalization_31 (Ba  (None, 7, 7, 2048)        8192      \n",
            " tchNormalization)                                               \n",
            "                                                                 \n",
            " batch_normalization_32 (Ba  (None, 7, 7, 2048)        8192      \n",
            " tchNormalization)                                               \n",
            "                                                                 \n",
            " batch_normalization_33 (Ba  (None, 7, 7, 2048)        8192      \n",
            " tchNormalization)                                               \n",
            "                                                                 \n",
            " batch_normalization_34 (Ba  (None, 7, 7, 2048)        8192      \n",
            " tchNormalization)                                               \n",
            "                                                                 \n",
            " batch_normalization_35 (Ba  (None, 7, 7, 2048)        8192      \n",
            " tchNormalization)                                               \n",
            "                                                                 \n",
            " batch_normalization_36 (Ba  (None, 7, 7, 2048)        8192      \n",
            " tchNormalization)                                               \n",
            "                                                                 \n",
            " batch_normalization_37 (Ba  (None, 7, 7, 2048)        8192      \n",
            " tchNormalization)                                               \n",
            "                                                                 \n",
            " batch_normalization_38 (Ba  (None, 7, 7, 2048)        8192      \n",
            " tchNormalization)                                               \n",
            "                                                                 \n",
            " batch_normalization_39 (Ba  (None, 7, 7, 2048)        8192      \n",
            " tchNormalization)                                               \n",
            "                                                                 \n",
            " batch_normalization_40 (Ba  (None, 7, 7, 2048)        8192      \n",
            " tchNormalization)                                               \n",
            "                                                                 \n",
            " batch_normalization_41 (Ba  (None, 7, 7, 2048)        8192      \n",
            " tchNormalization)                                               \n",
            "                                                                 \n",
            " batch_normalization_42 (Ba  (None, 7, 7, 2048)        8192      \n",
            " tchNormalization)                                               \n",
            "                                                                 \n",
            " batch_normalization_43 (Ba  (None, 7, 7, 2048)        8192      \n",
            " tchNormalization)                                               \n",
            "                                                                 \n",
            " batch_normalization_44 (Ba  (None, 7, 7, 2048)        8192      \n",
            " tchNormalization)                                               \n",
            "                                                                 \n",
            " batch_normalization_45 (Ba  (None, 7, 7, 2048)        8192      \n",
            " tchNormalization)                                               \n",
            "                                                                 \n",
            " batch_normalization_46 (Ba  (None, 7, 7, 2048)        8192      \n",
            " tchNormalization)                                               \n",
            "                                                                 \n",
            " batch_normalization_47 (Ba  (None, 7, 7, 2048)        8192      \n",
            " tchNormalization)                                               \n",
            "                                                                 \n",
            " batch_normalization_48 (Ba  (None, 7, 7, 2048)        8192      \n",
            " tchNormalization)                                               \n",
            "                                                                 \n",
            " batch_normalization_49 (Ba  (None, 7, 7, 2048)        8192      \n",
            " tchNormalization)                                               \n",
            "                                                                 \n",
            " batch_normalization_50 (Ba  (None, 7, 7, 2048)        8192      \n",
            " tchNormalization)                                               \n",
            "                                                                 \n",
            " batch_normalization_51 (Ba  (None, 7, 7, 2048)        8192      \n",
            " tchNormalization)                                               \n",
            "                                                                 \n",
            " batch_normalization_52 (Ba  (None, 7, 7, 2048)        8192      \n",
            " tchNormalization)                                               \n",
            "                                                                 \n",
            " global_average_pooling2d (  (None, 2048)              0         \n",
            " GlobalAveragePooling2D)                                         \n",
            "                                                                 \n",
            " dense (Dense)               (None, 256)               524544    \n",
            "                                                                 \n",
            " batch_normalization_53 (Ba  (None, 256)               1024      \n",
            " tchNormalization)                                               \n",
            "                                                                 \n",
            " dropout (Dropout)           (None, 256)               0         \n",
            "                                                                 \n",
            " dense_1 (Dense)             (None, 4)                 1028      \n",
            "                                                                 \n",
            "=================================================================\n",
            "Total params: 24548484 (93.65 MB)\n",
            "Trainable params: 24277764 (92.61 MB)\n",
            "Non-trainable params: 270720 (1.03 MB)\n",
            "_________________________________________________________________\n"
          ]
        }
      ]
    },
    {
      "cell_type": "code",
      "source": [
        "import matplotlib.pyplot as plt\n",
        "# Plot accuracy\n",
        "plt.plot(history.history['accuracy'], label='Training Accuracy')\n",
        "plt.plot(history.history['val_accuracy'], label='Validation Accuracy')\n",
        "plt.title('Accuracy')\n",
        "plt.xlabel('Epoch')\n",
        "plt.ylabel('Accuracy')\n",
        "plt.legend(loc='lower right')\n",
        "plt.show()\n",
        "\n",
        "# Plot loss\n",
        "plt.plot(history.history['loss'], label='Training Loss')\n",
        "plt.plot(history.history['val_loss'], label='Validation Loss')\n",
        "plt.title('Loss')\n",
        "plt.xlabel('Epoch')\n",
        "plt.ylabel('Loss')\n",
        "plt.legend(loc='upper right')\n",
        "plt.show()\n"
      ],
      "metadata": {
        "colab": {
          "base_uri": "https://localhost:8080/",
          "height": 927
        },
        "id": "lTw9d5O2j5cA",
        "outputId": "95181805-0ec3-4640-965d-23213cda963f"
      },
      "execution_count": null,
      "outputs": [
        {
          "output_type": "display_data",
          "data": {
            "text/plain": [
              "<Figure size 640x480 with 1 Axes>"
            ],
            "image/png": "[encoded data removed]"
          },
          "metadata": {}
        },
        {
          "output_type": "display_data",
          "data": {
            "text/plain": [
              "<Figure size 640x480 with 1 Axes>"
            ],
            "image/png": "[encoded data removed]"
          },
          "metadata": {}
        }
      ]
    }
  ],
  "metadata": {
    "colab": {
      "provenance": [],
      "gpuType": "T4"
    },
    "kernelspec": {
      "display_name": "Python 3",
      "name": "python3"
    },
    "language_info": {
      "name": "python"
    },
    "accelerator": "GPU"
  },
  "nbformat": 4,
  "nbformat_minor": 0
}